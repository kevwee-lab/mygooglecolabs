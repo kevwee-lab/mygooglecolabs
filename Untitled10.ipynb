{
  "nbformat": 4,
  "nbformat_minor": 0,
  "metadata": {
    "colab": {
      "name": "Untitled10.ipynb",
      "provenance": [],
      "collapsed_sections": [],
      "authorship_tag": "ABX9TyM0ul4aaSAYVRHglgzeqXAw",
      "include_colab_link": true
    },
    "kernelspec": {
      "name": "python3",
      "display_name": "Python 3"
    }
  },
  "cells": [
    {
      "cell_type": "markdown",
      "metadata": {
        "id": "view-in-github",
        "colab_type": "text"
      },
      "source": [
        "<a href=\"https://colab.research.google.com/github/kevwee-lab/mygooglecolabs/blob/master/Untitled10.ipynb\" target=\"_parent\"><img src=\"https://colab.research.google.com/assets/colab-badge.svg\" alt=\"Open In Colab\"/></a>"
      ]
    },
    {
      "cell_type": "code",
      "metadata": {
        "id": "1uFFwM0OcR54",
        "colab_type": "code",
        "colab": {
          "base_uri": "https://localhost:8080/",
          "height": 34
        },
        "outputId": "dfa25ef2-e8c6-44a5-a2cf-54c97eafb880"
      },
      "source": [
        "def bubble_sort(list):\n",
        "  unsorted_until_index=len(list)-1\n",
        "  sorted=False\n",
        "  while not sorted:\n",
        "    sorted=True\n",
        "    for i in range(unsorted_until_index):\n",
        "      if list[i] > list[i+1]:\n",
        "        sorted=False\n",
        "        list[i],list[i+1] = list[i+1],list[i]\n",
        "    unsorted_until_index=unsorted_until_index-1\n",
        "\n",
        "list=[4,1,9,55,67,89,12,100,5,26]\n",
        "bubble_sort(list)\n",
        "print(list)\n",
        "\n",
        "#this is a bubble sort algo with n square time complexity - for every iteration, another iteration has to take place"
      ],
      "execution_count": null,
      "outputs": [
        {
          "output_type": "stream",
          "text": [
            "[1, 4, 5, 9, 12, 26, 55, 67, 89, 100]\n"
          ],
          "name": "stdout"
        }
      ]
    },
    {
      "cell_type": "code",
      "metadata": {
        "id": "TBApo-CevwHg",
        "colab_type": "code",
        "colab": {
          "base_uri": "https://localhost:8080/",
          "height": 272
        },
        "outputId": "5bc42539-80ab-4492-9540-b09ee662bbed"
      },
      "source": [
        "import random\n",
        "from textwrap import dedent\n",
        "\n",
        "ai = random.randint(1, 101)\n",
        "chances = 0\n",
        "\n",
        "print(dedent(\"\"\"\n",
        "      Welcome to the number guessing game!\n",
        "      Choose a number between 1 to 100.\n",
        "      \"\"\"))\n",
        "\n",
        "while chances < 5:\n",
        "  guess = int(input(\"Choose a number (1-100): \"))\n",
        "\n",
        "  if guess == ai:\n",
        "    print(\"Congrats, you win!\")\n",
        "    break\n",
        "  \n",
        "  elif guess > ai:\n",
        "    print(\"Too high! Guess again!\", guess)\n",
        "  \n",
        "  else:\n",
        "    print(\"Too low! Guess again!\", guess)\n",
        "  \n",
        "  chances += 1\n",
        "\n",
        "if chances == 5:\n",
        "  print(\"Sorry you lose! The number is:\", ai)\n",
        "\n",
        "\n",
        "\n"
      ],
      "execution_count": null,
      "outputs": [
        {
          "output_type": "stream",
          "text": [
            "\n",
            "Welcome to the number guessing game!\n",
            "Choose a number between 1 to 100.\n",
            "\n",
            "Choose a number (1-100): 50\n",
            "Too low! Guess again! 50\n",
            "Choose a number (1-100): 70\n",
            "Too low! Guess again! 70\n",
            "Choose a number (1-100): 85\n",
            "Too high! Guess again! 85\n",
            "Choose a number (1-100): 77\n",
            "Too high! Guess again! 77\n",
            "Choose a number (1-100): 74\n",
            "Too high! Guess again! 74\n",
            "Sorry you lose! The number is: 72\n"
          ],
          "name": "stdout"
        }
      ]
    },
    {
      "cell_type": "code",
      "metadata": {
        "id": "-BcoaSyvSG1i",
        "colab_type": "code",
        "colab": {
          "base_uri": "https://localhost:8080/",
          "height": 442
        },
        "outputId": "becf43f8-9cd3-4d6a-bf39-501b0c3ba6ac"
      },
      "source": [
        "import random\n",
        "from textwrap import dedent\n",
        "\n",
        "ai = random.randint(1, 101)\n",
        "score = 10\n",
        "\n",
        "print(dedent(\"\"\"\n",
        "      Welcome to the number guessing game!\n",
        "      Choose a number between 1 to 100.\n",
        "      \"\"\"))\n",
        "\n",
        "while score != 0:\n",
        "  guess = int(input(\"Choose a number (1-100): \"))\n",
        "\n",
        "  if guess == ai:\n",
        "    print(\"Congrats, you win!\")\n",
        "    break\n",
        "  \n",
        "  elif guess > ai:\n",
        "    print(\"Too high! Guess again!\", guess)\n",
        "  \n",
        "  else:\n",
        "    print(\"Too low! Guess again!\", guess)\n",
        "  \n",
        "  score -= 1\n",
        "\n",
        "if score == 0:\n",
        "  print(\"Sorry you lose! The number is:\", ai)"
      ],
      "execution_count": null,
      "outputs": [
        {
          "output_type": "stream",
          "text": [
            "\n",
            "Welcome to the number guessing game!\n",
            "Choose a number between 1 to 100.\n",
            "\n",
            "Choose a number (1-100): 10\n",
            "Too low! Guess again! 10\n",
            "Choose a number (1-100): 20\n",
            "Too low! Guess again! 20\n",
            "Choose a number (1-100): 30\n",
            "Too low! Guess again! 30\n",
            "Choose a number (1-100): 40\n",
            "Too low! Guess again! 40\n",
            "Choose a number (1-100): 50\n",
            "Too low! Guess again! 50\n",
            "Choose a number (1-100): 60\n",
            "Too low! Guess again! 60\n",
            "Choose a number (1-100): 70\n",
            "Too low! Guess again! 70\n",
            "Choose a number (1-100): 80\n",
            "Too low! Guess again! 80\n",
            "Choose a number (1-100): 90\n",
            "Too high! Guess again! 90\n",
            "Choose a number (1-100): 100\n",
            "Too high! Guess again! 100\n",
            "Sorry you lose! The number is: 89\n"
          ],
          "name": "stdout"
        }
      ]
    },
    {
      "cell_type": "code",
      "metadata": {
        "id": "1iI_xj0zqt1L",
        "colab_type": "code",
        "colab": {
          "base_uri": "https://localhost:8080/",
          "height": 136
        },
        "outputId": "d775afa2-3776-4786-dc7a-4646da7f4ffc"
      },
      "source": [
        "color = input(\"Enter a cause of death: \")\n",
        "Noun1 = input(\"Enter a noun: \")\n",
        "Noun2 = input(\"Enter another noun: \")\n",
        "\n",
        "\n",
        "print(\"He was killed in a\", color)\n",
        "print(\"They scattered his ashes across the\",Noun1)\n",
        "print(f\"The {Noun2} was used to make baby lotion\")\n",
        "print(\"The wheels of commotion were set into motion\")"
      ],
      "execution_count": null,
      "outputs": [
        {
          "output_type": "stream",
          "text": [
            "Enter a cause of death: cellular phone explosion\n",
            "Enter a noun: ocean\n",
            "Enter an object name: water\n",
            "He was killed in a cellular phone explosion\n",
            "They scattered his ashes across the ocean\n",
            "The water was used to make baby lotion\n",
            "The wheels of commotion were set into motion\n"
          ],
          "name": "stdout"
        }
      ]
    },
    {
      "cell_type": "code",
      "metadata": {
        "id": "PwrOkXz5fm2y",
        "colab_type": "code",
        "colab": {
          "base_uri": "https://localhost:8080/",
          "height": 136
        },
        "outputId": "92266d46-f164-439d-e46e-6f27c51b4e31"
      },
      "source": [
        "import random\n",
        "\n",
        "def coinflip():\n",
        "  n = int(input(\"Enter number of times to flip the coin: \"))\n",
        "  countlist = []\n",
        "  for amount in range(n):\n",
        "    toss = random.randint(0, 1)\n",
        "    if toss == 0:\n",
        "      print(\"Heads\")\n",
        "      countlist.append(\"Heads\")\n",
        "    else:\n",
        "      print(\"Tails\")\n",
        "      countlist.append(\"Tails\")\n",
        "  \n",
        "  print(\"The number of heads is {}.\".format(countlist.count(\"Heads\")) + \" The number of tails is {}.\".format(countlist.count(\"Tails\")))\n",
        "\n",
        "coinflip()"
      ],
      "execution_count": null,
      "outputs": [
        {
          "output_type": "stream",
          "text": [
            "Enter number of times to flip the coin: 5\n",
            "Heads\n",
            "Tails\n",
            "Tails\n",
            "Tails\n",
            "Heads\n",
            "The number of heads is 2. The number of tails is 3.\n"
          ],
          "name": "stdout"
        }
      ]
    },
    {
      "cell_type": "code",
      "metadata": {
        "id": "sOX3-zDH9N0u",
        "colab_type": "code",
        "colab": {
          "base_uri": "https://localhost:8080/",
          "height": 52
        },
        "outputId": "075bc392-4083-4a28-addc-4996579e8af4"
      },
      "source": [
        "def isPalindrome():\n",
        "  n = input(\"Input word: \")\n",
        "  return n == n[::-1]\n",
        "\n",
        "ans = isPalindrome()\n",
        "if ans:\n",
        "  print(\"Yes this word is a Palindrome.\")\n",
        "else:\n",
        "  print(\"No, this word is not a Palindrome.\")"
      ],
      "execution_count": null,
      "outputs": [
        {
          "output_type": "stream",
          "text": [
            "Input word: tacocat\n",
            "Yes this word is a Palindrome.\n"
          ],
          "name": "stdout"
        }
      ]
    },
    {
      "cell_type": "code",
      "metadata": {
        "id": "xMrP9_WUgoW4",
        "colab_type": "code",
        "colab": {
          "base_uri": "https://localhost:8080/",
          "height": 35
        },
        "outputId": "23c9916f-1013-4643-dce9-fc68654423ee"
      },
      "source": [
        "from mpmath import mp\n",
        "\n",
        "def find_decs(n):\n",
        "  mp.dps = n\n",
        "  if n < 100:\n",
        "    print(mp.pi)\n",
        "  else:\n",
        "    print('Try a number less than 100 decimal places.')\n",
        "\n",
        "find_decs(14)"
      ],
      "execution_count": null,
      "outputs": [
        {
          "output_type": "stream",
          "text": [
            "3.1415926535898\n"
          ],
          "name": "stdout"
        }
      ]
    },
    {
      "cell_type": "code",
      "metadata": {
        "id": "PAUINSAozL-I",
        "colab_type": "code",
        "colab": {
          "base_uri": "https://localhost:8080/",
          "height": 156
        },
        "outputId": "4b637c07-1a2e-4c0d-e3cb-09d8109ec3e4"
      },
      "source": [
        "import random\n",
        "\n",
        "def d8(n):\n",
        "  die = list(range(1, 9))\n",
        "  for i in range(n):\n",
        "    print(random.choice(die))\n",
        "\n",
        "def d4(n):\n",
        "  die = list(range(1, 5))\n",
        "  for i in range(n):\n",
        "    print(random.choice(die))\n",
        "\n",
        "def d20(n):\n",
        "  die = list(range(1, 21))\n",
        "  for i in range(n):\n",
        "    print(random.choice(die))\n",
        "\n",
        "def d10(n):\n",
        "  die = list(range(1, 11))\n",
        "  for i in range(n):\n",
        "    print(random.choice(die))\n",
        "\n",
        "def d6(n):\n",
        "  die = list(range(1, 7))\n",
        "  for i in range(n):\n",
        "    print(random.choice(die))\n",
        "\n",
        "\n",
        "d20(3)\n",
        "d8(5)\n"
      ],
      "execution_count": null,
      "outputs": [
        {
          "output_type": "stream",
          "text": [
            "8\n",
            "20\n",
            "13\n",
            "1\n",
            "3\n",
            "2\n",
            "8\n",
            "1\n"
          ],
          "name": "stdout"
        }
      ]
    },
    {
      "cell_type": "code",
      "metadata": {
        "id": "aCVNnEAMsFTb",
        "colab_type": "code",
        "colab": {}
      },
      "source": [
        "def insertion_sort(array):\n",
        "  for index in range(1, len(array)):\n",
        "    position = index\n",
        "    temp_value = array[index]\n",
        "    while position > 0 and array[position - 1] > temp_value:\n",
        "      array[position] = array[position - 1]\n",
        "      position = position - 1\n",
        "    array[position] = temp_value\n",
        "\n",
        "insertion_sort([4,2,7,1,3])"
      ],
      "execution_count": null,
      "outputs": []
    },
    {
      "cell_type": "code",
      "metadata": {
        "id": "-yb5kY5b8eDd",
        "colab_type": "code",
        "colab": {
          "base_uri": "https://localhost:8080/",
          "height": 34
        },
        "outputId": "c1984047-55f1-4a7e-d8b9-58a1dd469f76"
      },
      "source": [
        "def is_prime(number):\n",
        "  for i in range(2,number):\n",
        "    if number % i ==0:\n",
        "      return False\n",
        "  return True\n",
        "\n",
        "is_prime(1234567)"
      ],
      "execution_count": null,
      "outputs": [
        {
          "output_type": "execute_result",
          "data": {
            "text/plain": [
              "False"
            ]
          },
          "metadata": {
            "tags": []
          },
          "execution_count": 21
        }
      ]
    },
    {
      "cell_type": "code",
      "metadata": {
        "id": "z7vQWlTBW_jd",
        "colab_type": "code",
        "colab": {
          "base_uri": "https://localhost:8080/",
          "height": 55
        },
        "outputId": "8d0553f9-b4f6-4ee3-f0ab-6755543e19de"
      },
      "source": [
        "import requests\n",
        "import json\n",
        "from decimal import Decimal\n",
        "\n",
        "#call the API\n",
        "resp = requests.get(\"https://data.gov.sg/api/action/datastore_search?resource_id=96e66346-68bb-4ca9-b001-58bbf39e36a7\")\n",
        "rawdata = resp.json()\n",
        "data=[]\n",
        "\n",
        "#iterate through the data + slice and decimal + create and append the list of lists\n",
        "for row in rawdata['result']['records']:\n",
        "  datarow=[]\n",
        "  year=row[\"month\"][0:4]\n",
        "  temperature=Decimal(row[\"max_temperature\"])\n",
        "  datarow.append(year)\n",
        "  datarow.append(temperature)\n",
        "  data.append(datarow)\n",
        "\n",
        "#create function to find max temperature\n",
        "def max_temp(inputlist,year):\n",
        "  temperatures = []\n",
        "  for sublist in inputlist:\n",
        "    if sublist[0] == year:\n",
        "      temperatures.append(sublist[1])\n",
        "  return max(temperatures)\n",
        "\n",
        "#place the years in a set to remove duplicates\n",
        "yearcount=set([])\n",
        "for sublist in data:\n",
        "  yearcount.add(sublist[0])\n",
        "\n",
        "#use the max_temp function and print only the maximum temp for each unique year\n",
        "onlymax=[]\n",
        "for year in yearcount:\n",
        "  onlymaxrow=[]\n",
        "  onlymaxrow.append(year)\n",
        "  onlymaxrow.append(max_temp(data,year))\n",
        "  onlymax.append(onlymaxrow)\n",
        "\n",
        "\n",
        "#sort and print the list of lists\n",
        "newdata=sorted(onlymax)\n",
        "\n",
        "print(newdata)\n",
        "  \n",
        "\n"
      ],
      "execution_count": null,
      "outputs": [
        {
          "output_type": "stream",
          "text": [
            "[['1982', Decimal('34.3')], ['1983', Decimal('35.8')], ['2002', Decimal('34')], ['2003', Decimal('34.3')], ['2004', Decimal('35.1')], ['2005', Decimal('35.4')], ['2006', Decimal('34.6')], ['2007', Decimal('34')], ['2008', Decimal('34.1')], ['2009', Decimal('35')]]\n"
          ],
          "name": "stdout"
        }
      ]
    },
    {
      "cell_type": "code",
      "metadata": {
        "id": "tyHBhiLUvRow",
        "colab_type": "code",
        "colab": {
          "base_uri": "https://localhost:8080/",
          "height": 34
        },
        "outputId": "7574901c-3b64-4764-df62-3cf662ede973"
      },
      "source": [
        "def check(inputlist):\n",
        "  inputlist=list(inputlist)\n",
        "  count=0\n",
        "  for item in inputlist:\n",
        "    if item==55:\n",
        "      count+=1\n",
        "  return(count)\n",
        "\n",
        "\n",
        "check([1,2,10,55,20,55,11,5,55,10,55,20])\n",
        " "
      ],
      "execution_count": null,
      "outputs": [
        {
          "output_type": "execute_result",
          "data": {
            "text/plain": [
              "4"
            ]
          },
          "metadata": {
            "tags": []
          },
          "execution_count": 16
        }
      ]
    }
  ]
}