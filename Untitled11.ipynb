{
  "nbformat": 4,
  "nbformat_minor": 0,
  "metadata": {
    "colab": {
      "name": "Untitled11.ipynb",
      "provenance": [],
      "authorship_tag": "ABX9TyN/YoqTsQL5KMmeK8Gxy1Hc",
      "include_colab_link": true
    },
    "kernelspec": {
      "name": "python3",
      "display_name": "Python 3"
    }
  },
  "cells": [
    {
      "cell_type": "markdown",
      "metadata": {
        "id": "view-in-github",
        "colab_type": "text"
      },
      "source": [
        "<a href=\"https://colab.research.google.com/github/kevwee-lab/mygooglecolabs/blob/master/Untitled11.ipynb\" target=\"_parent\"><img src=\"https://colab.research.google.com/assets/colab-badge.svg\" alt=\"Open In Colab\"/></a>"
      ]
    },
    {
      "cell_type": "code",
      "metadata": {
        "id": "GtJuoGZOl6nu",
        "colab_type": "code",
        "colab": {
          "base_uri": "https://localhost:8080/",
          "height": 51
        },
        "outputId": "30f6f3cd-3bda-4e24-d767-8d4a8e721262"
      },
      "source": [
        "#lesson on XY problem\n",
        "#using file extension filename function\n",
        "\n",
        "def extract_ext(filename):\n",
        "  return filename.split('.')[-1]\n",
        "\n",
        "print(extract_ext('photo_of_sasquatch.png'))\n",
        "print(extract_ext('photo_of_lochness.jpeg'))"
      ],
      "execution_count": null,
      "outputs": [
        {
          "output_type": "stream",
          "text": [
            "png\n",
            "jpeg\n"
          ],
          "name": "stdout"
        }
      ]
    },
    {
      "cell_type": "code",
      "metadata": {
        "id": "0dCYrTz9m7nG",
        "colab_type": "code",
        "colab": {
          "base_uri": "https://localhost:8080/",
          "height": 51
        },
        "outputId": "3105e75d-aee9-4aa3-95e4-0fdacc5ca599"
      },
      "source": [
        "#accessing chars in string\n",
        "\n",
        "word = 'supergreat'\n",
        "print(f'{word[0]}')\n",
        "\n",
        "print(f'{word[0:5]}')"
      ],
      "execution_count": null,
      "outputs": [
        {
          "output_type": "stream",
          "text": [
            "s\n",
            "super\n"
          ],
          "name": "stdout"
        }
      ]
    },
    {
      "cell_type": "code",
      "metadata": {
        "id": "Z23rNX-inY_G",
        "colab_type": "code",
        "colab": {
          "base_uri": "https://localhost:8080/",
          "height": 68
        },
        "outputId": "f506a86a-41f4-446d-deda-198a64e86246"
      },
      "source": [
        "#file extenstion using endswith\n",
        "filenames = ['lochness.png', 'e.t.jpeg', 'conspiracy_theories_CONFIRMED.zip']\n",
        "\n",
        "for files in filenames:\n",
        "  if files.endswith('zip'):\n",
        "    print(f'{files} is a zip file.')\n",
        "  else:\n",
        "    print(f'{files} is not a zip file.')"
      ],
      "execution_count": null,
      "outputs": [
        {
          "output_type": "stream",
          "text": [
            "lochness.png is not a zip file.\n",
            "e.t.jpeg is not a zip file.\n",
            "conspiracy_theories_CONFIRMED.zip is a zip file.\n"
          ],
          "name": "stdout"
        }
      ]
    },
    {
      "cell_type": "code",
      "metadata": {
        "id": "0xgQxSMvoxVp",
        "colab_type": "code",
        "colab": {
          "base_uri": "https://localhost:8080/",
          "height": 204
        },
        "outputId": "17b80b98-896b-4380-d07e-faf1f92ab48d"
      },
      "source": [
        "#separate integers from strings in a list\n",
        "my_list = ['a', 'b', 'n', 'x', 1, 2, 33.3, 'n', 'b']\n",
        "number_list = []\n",
        "string_list = []\n",
        "\n",
        "for item in my_list:\n",
        "  print(f'current item: {item}, Type: {type(item)}')\n",
        "  if not isinstance(item, str):\n",
        "    number_list.append(item)\n",
        "  else:\n",
        "    string_list.append(item)\n",
        "\n",
        "print(number_list)\n",
        "print(string_list)"
      ],
      "execution_count": null,
      "outputs": [
        {
          "output_type": "stream",
          "text": [
            "current item: a, Type: <class 'str'>\n",
            "current item: b, Type: <class 'str'>\n",
            "current item: n, Type: <class 'str'>\n",
            "current item: x, Type: <class 'str'>\n",
            "current item: 1, Type: <class 'int'>\n",
            "current item: 2, Type: <class 'int'>\n",
            "current item: 33.3, Type: <class 'float'>\n",
            "current item: n, Type: <class 'str'>\n",
            "current item: b, Type: <class 'str'>\n",
            "[1, 2, 33.3]\n",
            "None\n"
          ],
          "name": "stdout"
        }
      ]
    },
    {
      "cell_type": "code",
      "metadata": {
        "id": "wP3P9TJRp_EB",
        "colab_type": "code",
        "colab": {
          "base_uri": "https://localhost:8080/",
          "height": 34
        },
        "outputId": "14b98c15-61a4-4967-d3bd-d0ea3f1c3ac0"
      },
      "source": [
        "#separate list using list comprehensions\n",
        "my_list = ['a', 'b', 'n', 'x', 1, 2, 33.3, 'n', 'b']\n",
        "\n",
        "my_list = [letter for letter in my_list if isinstance(letter, str)]\n",
        "print(my_list)"
      ],
      "execution_count": null,
      "outputs": [
        {
          "output_type": "stream",
          "text": [
            "['a', 'b', 'n', 'x', 'n', 'b']\n"
          ],
          "name": "stdout"
        }
      ]
    },
    {
      "cell_type": "code",
      "metadata": {
        "id": "e6aMifIFqSwK",
        "colab_type": "code",
        "colab": {
          "base_uri": "https://localhost:8080/",
          "height": 68
        },
        "outputId": "2144b154-304f-499a-94f0-738dcc740b07"
      },
      "source": [
        "#using filter to get same result\n",
        "\n",
        "def get_numbers(input_char):\n",
        "  if not isinstance(input_char, str):\n",
        "    return True\n",
        "  return False\n",
        "\n",
        "mylist = [1, 2, 3, 'a', 'b', 'c']\n",
        "\n",
        "check_list = filter(get_numbers, mylist)\n",
        "\n",
        "for items in check_list:\n",
        "  print(items)"
      ],
      "execution_count": null,
      "outputs": [
        {
          "output_type": "stream",
          "text": [
            "1\n",
            "2\n",
            "3\n"
          ],
          "name": "stdout"
        }
      ]
    },
    {
      "cell_type": "code",
      "metadata": {
        "id": "7rbXui5tsM8o",
        "colab_type": "code",
        "colab": {
          "base_uri": "https://localhost:8080/",
          "height": 34
        },
        "outputId": "db905761-3529-43de-9cde-69f96f03ed4b"
      },
      "source": [
        "#reverse a string\n",
        "\n",
        "word = 'honorificabilis'\n",
        "\n",
        "print(f\"{word[::-1]}\")"
      ],
      "execution_count": null,
      "outputs": [
        {
          "output_type": "stream",
          "text": [
            "silibacifironoh\n"
          ],
          "name": "stdout"
        }
      ]
    },
    {
      "cell_type": "code",
      "metadata": {
        "id": "jK7iqAVeta7V",
        "colab_type": "code",
        "colab": {
          "base_uri": "https://localhost:8080/",
          "height": 34
        },
        "outputId": "d4aaacc0-0b84-456a-c512-5e8dc5380635"
      },
      "source": [
        "#reverse a list\n",
        "names = ['First', 'Middle', 'Last']\n",
        "print(names[::-1])"
      ],
      "execution_count": null,
      "outputs": [
        {
          "output_type": "stream",
          "text": [
            "['Last', 'Middle', 'First']\n"
          ],
          "name": "stdout"
        }
      ]
    },
    {
      "cell_type": "code",
      "metadata": {
        "id": "z8NbRwH1tu0d",
        "colab_type": "code",
        "colab": {
          "base_uri": "https://localhost:8080/",
          "height": 51
        },
        "outputId": "2ef3d3ba-d067-4811-8c12-45beb35c4d59"
      },
      "source": [
        "#join elements in a list\n",
        "names = ['First', 'Middle', 'Last']\n",
        "full_name = ' '.join(names)\n",
        "print(f\"Full Name:\\n{full_name}\")"
      ],
      "execution_count": null,
      "outputs": [
        {
          "output_type": "stream",
          "text": [
            "Full Name:\n",
            "First Middle Last\n"
          ],
          "name": "stdout"
        }
      ]
    },
    {
      "cell_type": "code",
      "metadata": {
        "id": "epO3jSoPuSOi",
        "colab_type": "code",
        "colab": {
          "base_uri": "https://localhost:8080/",
          "height": 323
        },
        "outputId": "9624100c-bc48-4fb9-da0d-2d4d3dd554cf"
      },
      "source": [
        "#accessing lists\n",
        "greek_gods = ['Zeus', 'Hera', 'Poseidon', 'Apollo', 'Stuart', 'Bob']\n",
        "\n",
        "#use enumerate to print with index\n",
        "for index, name in enumerate(greek_gods):\n",
        "  print(f'at index {index}, we have: {name}')\n",
        "\n",
        "#print without index\n",
        "for name in greek_gods:\n",
        "  print(f'Greek God: {name}')\n",
        "\n",
        "#not so pythonic way to print with index\n",
        "for index in range(0,len(greek_gods)):\n",
        "  print(f'at index {index}, we have {greek_gods[index]}')"
      ],
      "execution_count": null,
      "outputs": [
        {
          "output_type": "stream",
          "text": [
            "at index 0, we have: Zeus\n",
            "at index 1, we have: Hera\n",
            "at index 2, we have: Poseidon\n",
            "at index 3, we have: Apollo\n",
            "at index 4, we have: Stuart\n",
            "at index 5, we have: Bob\n",
            "Greek God: Zeus\n",
            "Greek God: Hera\n",
            "Greek God: Poseidon\n",
            "Greek God: Apollo\n",
            "Greek God: Stuart\n",
            "Greek God: Bob\n",
            "at index 0, we have Zeus\n",
            "at index 1, we have Hera\n",
            "at index 2, we have Poseidon\n",
            "at index 3, we have Apollo\n",
            "at index 4, we have Stuart\n",
            "at index 5, we have Bob\n"
          ],
          "name": "stdout"
        }
      ]
    },
    {
      "cell_type": "code",
      "metadata": {
        "id": "qeXUn7B1wMeq",
        "colab_type": "code",
        "colab": {
          "base_uri": "https://localhost:8080/",
          "height": 119
        },
        "outputId": "6bbd2c7e-d915-412f-f2f2-af32c1082447"
      },
      "source": [
        "#OOP\n",
        "\n",
        "class Student():\n",
        "  def __init__(self,name):\n",
        "    self.name = name\n",
        "    self.subject_list = []\n",
        "  \n",
        "  def add_subject(self, subject_name):\n",
        "    self.subject_list.append(subject_name)\n",
        "  \n",
        "  def get_student_data(self):\n",
        "    print(f'Student: {self.name} is assigned to:')\n",
        "    for subject in self.subject_list:\n",
        "      print(f'{subject}')\n",
        "    print()\n",
        "\n",
        "student1 = Student('Mishmans Nrofqa')\n",
        "student2 = Student('Bighal Chung')\n",
        "\n",
        "student1.add_subject('Sociology_101')\n",
        "student2.add_subject('History_101')\n",
        "\n",
        "student1.get_student_data()\n",
        "student2.get_student_data()"
      ],
      "execution_count": null,
      "outputs": [
        {
          "output_type": "stream",
          "text": [
            "Student: Mishmans Nrofqa is assigned to:\n",
            "Sociology_101\n",
            "\n",
            "Student: Bighal Chung is assigned to:\n",
            "History_101\n",
            "\n"
          ],
          "name": "stdout"
        }
      ]
    },
    {
      "cell_type": "code",
      "metadata": {
        "id": "3DD44eX0yE3O",
        "colab_type": "code",
        "colab": {}
      },
      "source": [
        "  "
      ],
      "execution_count": null,
      "outputs": []
    }
  ]
}